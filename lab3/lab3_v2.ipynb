{
 "cells": [
  {
   "cell_type": "markdown",
   "id": "613bf69f",
   "metadata": {},
   "source": [
    "# Pandas Lab — Варіант 2\n",
    "Набір даних **US Baby Names (NationalNames.csv)**"
   ]
  },
  {
   "cell_type": "code",
   "execution_count": null,
   "id": "a4c24de0",
   "metadata": {},
   "outputs": [],
   "source": [
    "import pandas as pd\n",
    "import matplotlib.pyplot as plt\n",
    "df = pd.read_csv('NationalNames.csv')\n",
    "df.head()"
   ]
  },
  {
   "cell_type": "markdown",
   "id": "b40c5f61",
   "metadata": {},
   "source": [
    "### 3. Імена стовпців"
   ]
  },
  {
   "cell_type": "code",
   "execution_count": null,
   "id": "c08e9675",
   "metadata": {},
   "outputs": [],
   "source": [
    "df.columns"
   ]
  },
  {
   "cell_type": "markdown",
   "id": "1aa463a4",
   "metadata": {},
   "source": [
    "### 4. Загальна інформація"
   ]
  },
  {
   "cell_type": "code",
   "execution_count": null,
   "id": "b1e69511",
   "metadata": {},
   "outputs": [],
   "source": [
    "df.info()"
   ]
  },
  {
   "cell_type": "markdown",
   "id": "7d44018a",
   "metadata": {},
   "source": [
    "### 5. Кількість унікальних імен"
   ]
  },
  {
   "cell_type": "code",
   "execution_count": null,
   "id": "caa6ecb2",
   "metadata": {},
   "outputs": [],
   "source": [
    "df['Name'].nunique()"
   ]
  },
  {
   "cell_type": "markdown",
   "id": "128fe0ff",
   "metadata": {},
   "source": [
    "### 8. Найпопулярніше ім’я (max Count у будь‑якому році)"
   ]
  },
  {
   "cell_type": "code",
   "execution_count": null,
   "id": "5563dd3f",
   "metadata": {},
   "outputs": [],
   "source": [
    "df.loc[df['Count'].idxmax()][['Year','Name','Gender','Count']]"
   ]
  },
  {
   "cell_type": "markdown",
   "id": "661a102d",
   "metadata": {},
   "source": [
    "### 9. Кількість записів з мінімальним Count"
   ]
  },
  {
   "cell_type": "code",
   "execution_count": null,
   "id": "21256a73",
   "metadata": {},
   "outputs": [],
   "source": [
    "df['Count'].eq(df['Count'].min()).sum()"
   ]
  },
  {
   "cell_type": "markdown",
   "id": "eddac57a",
   "metadata": {},
   "source": [
    "### 11. Рік з найбільшою кількістю унікальних імен"
   ]
  },
  {
   "cell_type": "code",
   "execution_count": null,
   "id": "53180413",
   "metadata": {},
   "outputs": [],
   "source": [
    "df.groupby('Year')['Name'].nunique().idxmax()"
   ]
  },
  {
   "cell_type": "markdown",
   "id": "a609f4c4",
   "metadata": {},
   "source": [
    "### 12. Найпопулярніше ім’я у цьому році"
   ]
  },
  {
   "cell_type": "code",
   "execution_count": null,
   "id": "7141d8a5",
   "metadata": {},
   "outputs": [],
   "source": [
    "yr=df.groupby('Year')['Name'].nunique().idxmax()\n",
    "df_year=df[df['Year']==yr]\n",
    "df_year.loc[df_year['Count'].idxmax()][['Year','Name','Gender','Count']]"
   ]
  },
  {
   "cell_type": "markdown",
   "id": "5617b120",
   "metadata": {},
   "source": [
    "### 13. Рік, коли жіноче ім’я *Jacob* було найпопулярнішим"
   ]
  },
  {
   "cell_type": "code",
   "execution_count": null,
   "id": "e4fdeed5",
   "metadata": {},
   "outputs": [],
   "source": [
    "df_jac=df[(df['Name']=='Jacob')&(df['Gender']=='F')]\n",
    "df_jac.loc[df_jac['Count'].idxmax()][['Year','Count']]"
   ]
  },
  {
   "cell_type": "markdown",
   "id": "1890ff04",
   "metadata": {},
   "source": [
    "### 14. Рік із найбільшою кількістю гендерно‑нейтральних імен"
   ]
  },
  {
   "cell_type": "code",
   "execution_count": null,
   "id": "c00df767",
   "metadata": {},
   "outputs": [],
   "source": [
    "neutral_per_year=(df.groupby(['Year','Name'])['Gender']\n",
    "                  .nunique()\n",
    "                  .reset_index()\n",
    "                  .query('Gender==2')\n",
    "                  .groupby('Year')['Name']\n",
    "                  .nunique())\n",
    "neutral_per_year.idxmax()"
   ]
  },
  {
   "cell_type": "markdown",
   "id": "b9667c7d",
   "metadata": {},
   "source": [
    "### 16. Рік з найбільшою кількістю народжень"
   ]
  },
  {
   "cell_type": "code",
   "execution_count": null,
   "id": "f2064f5b",
   "metadata": {},
   "outputs": [],
   "source": [
    "df.groupby('Year')['Count'].sum().idxmax()"
   ]
  },
  {
   "cell_type": "markdown",
   "id": "098b0e21",
   "metadata": {},
   "source": [
    "### 17. Кількість дівчаток та хлопчиків щороку"
   ]
  },
  {
   "cell_type": "code",
   "execution_count": null,
   "id": "316ace0d",
   "metadata": {},
   "outputs": [],
   "source": [
    "births_sex=df.pivot_table(index='Year',columns='Gender',values='Count',aggfunc='sum')\n",
    "births_sex.head()"
   ]
  },
  {
   "cell_type": "markdown",
   "id": "ea0239e1",
   "metadata": {},
   "source": [
    "### 18. Кількість років, коли дівчаток більше за хлопчиків"
   ]
  },
  {
   "cell_type": "code",
   "execution_count": null,
   "id": "6ad03c94",
   "metadata": {},
   "outputs": [],
   "source": [
    "(births_sex['F']>births_sex['M']).sum()"
   ]
  },
  {
   "cell_type": "markdown",
   "id": "10099d59",
   "metadata": {},
   "source": [
    "### 19. Графік кількості народжень хлопчиків та дівчаток на рік"
   ]
  },
  {
   "cell_type": "code",
   "execution_count": null,
   "id": "e7d4da9a",
   "metadata": {},
   "outputs": [],
   "source": [
    "births_sex.plot(figsize=(10,4))\n",
    "plt.ylabel('Births');plt.show()"
   ]
  },
  {
   "cell_type": "markdown",
   "id": "ea538004",
   "metadata": {},
   "source": [
    "### 20. Кількість гендерно‑нейтральних імен у наборі"
   ]
  },
  {
   "cell_type": "code",
   "execution_count": null,
   "id": "aa8be9e4",
   "metadata": {},
   "outputs": [],
   "source": [
    "neutral_names=df.groupby('Name')['Gender'].nunique().eq(2).sum()\n",
    "neutral_names"
   ]
  },
  {
   "cell_type": "markdown",
   "id": "572a0062",
   "metadata": {},
   "source": [
    "### 22. Кількість років спостереження"
   ]
  },
  {
   "cell_type": "code",
   "execution_count": null,
   "id": "f5cc635b",
   "metadata": {},
   "outputs": [],
   "source": [
    "df['Year'].nunique()"
   ]
  },
  {
   "cell_type": "markdown",
   "id": "7c10c04b",
   "metadata": {},
   "source": [
    "### 23. Найпопулярніші гендерно‑нейтральні імена, присутні щороку"
   ]
  },
  {
   "cell_type": "code",
   "execution_count": null,
   "id": "4cb93fbb",
   "metadata": {},
   "outputs": [],
   "source": [
    "years=df['Year'].unique()\n",
    "neutral_all_years=(df.groupby(['Name','Year'])['Gender'].nunique()\n",
    "                   .unstack(fill_value=0)\n",
    "                   .eq(2).all(axis=1))\n",
    "names_every_year=df[df['Name'].isin(neutral_all_years[neutral_all_years].index)]\n",
    "names_every_year.groupby('Name')['Count'].sum().sort_values(ascending=False).head()"
   ]
  },
  {
   "cell_type": "markdown",
   "id": "813338d7",
   "metadata": {},
   "source": [
    "### 24. Найпопулярніше серед непопулярних імен"
   ]
  },
  {
   "cell_type": "code",
   "execution_count": null,
   "id": "15c74c8e",
   "metadata": {},
   "outputs": [],
   "source": [
    "min_count=df['Count'].min()\n",
    "unpopular=df[df['Count']==min_count]\n",
    "unpopular.groupby('Name')['Count'].sum().sort_values(ascending=False).head(1)"
   ]
  },
  {
   "cell_type": "markdown",
   "id": "e1f42a4e",
   "metadata": {},
   "source": [
    "### 27. Найпопулярніші імена в кожному році"
   ]
  },
  {
   "cell_type": "code",
   "execution_count": null,
   "id": "1ac6ab62",
   "metadata": {},
   "outputs": [],
   "source": [
    "top_per_year=df.loc[df.groupby('Year')['Count'].idxmax()][['Year','Name','Gender','Count']].set_index('Year')\n",
    "top_per_year.head()"
   ]
  }
 ],
 "metadata": {},
 "nbformat": 4,
 "nbformat_minor": 5
}
