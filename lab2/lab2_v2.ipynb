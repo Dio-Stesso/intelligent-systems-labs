{
 "cells": [
  {
   "cell_type": "markdown",
   "id": "34ff21e2",
   "metadata": {},
   "source": [
    "# Лабораторна робота (NumPy) – варіант 2"
   ]
  },
  {
   "cell_type": "markdown",
   "id": "af00e21b",
   "metadata": {},
   "source": [
    "Кожне завдання виконано двома способами: векторизованим (NumPy) та ітеративним (loops), з вимірюванням часу виконання.\n"
   ]
  },
  {
   "cell_type": "markdown",
   "id": "f1c5de60",
   "metadata": {},
   "source": [
    "Вправа 2. \"Шахівниця\" n×n (1 – чорне, 0 – біле)"
   ]
  },
  {
   "cell_type": "code",
   "execution_count": null,
   "id": "11542d77",
   "metadata": {},
   "outputs": [],
   "source": [
    "import numpy as np, time, math\n",
    "n=8\n",
    "%timeit np.indices((n,n)).sum(axis=0)%2\n",
    "def loop(n):\n",
    "    a=np.zeros((n,n),int)\n",
    "    for i in range(n):\n",
    "        for j in range(n):\n",
    "            if (i+j)%2: a[i,j]=1\n",
    "    return a\n",
    "%timeit loop(n)"
   ]
  },
  {
   "cell_type": "markdown",
   "id": "5534093f",
   "metadata": {},
   "source": [
    "Вправа 3. Матриця n×m з нулем у рядку r та стовпці c"
   ]
  },
  {
   "cell_type": "code",
   "execution_count": null,
   "id": "3266ef0f",
   "metadata": {},
   "outputs": [],
   "source": [
    "n,m,r,c=6,7,2,3\n",
    "%timeit (lambda n,m,r,c:(np.ones((n,m),int).astype(int).__setitem__(slice(None),np.ones((n,m),int)) or None))(n,m,r,c)\n",
    "a=np.ones((n,m),int);a[r]=0;a[:,c]=0;a\n",
    "def loop(n,m,r,c):\n",
    "    b=np.ones((n,m),int)\n",
    "    for i in range(n):\n",
    "        for j in range(m):\n",
    "            if i==r or j==c:b[i,j]=0\n",
    "    return b\n",
    "%timeit loop(n,m,r,c)"
   ]
  },
  {
   "cell_type": "markdown",
   "id": "fb8ea1ab",
   "metadata": {},
   "source": [
    "Вправа 5. Рядки з парним індексом – 1, інші – 0"
   ]
  },
  {
   "cell_type": "code",
   "execution_count": null,
   "id": "398c7d16",
   "metadata": {},
   "outputs": [],
   "source": [
    "n=6\n",
    "%timeit (lambda n: (np.arange(n)[:,None]%2==0).astype(int))(n)\n",
    "def loop(n):\n",
    "    a=np.zeros((n,n),int)\n",
    "    for i in range(0,n,2):a[i]=1\n",
    "    return a\n",
    "%timeit loop(n)"
   ]
  },
  {
   "cell_type": "markdown",
   "id": "5d985b37",
   "metadata": {},
   "source": [
    "Вправа 9. Вектор від n до 0"
   ]
  },
  {
   "cell_type": "code",
   "execution_count": null,
   "id": "83a381e7",
   "metadata": {},
   "outputs": [],
   "source": [
    "n=10\n",
    "%timeit np.arange(n,-1,-1)\n",
    "def loop(n):\n",
    "    return np.array([n-i for i in range(n+1)])\n",
    "%timeit loop(n)"
   ]
  },
  {
   "cell_type": "markdown",
   "id": "49ea7dcf",
   "metadata": {},
   "source": [
    "Вправа 13. Шахівниця 8×8 через repeat"
   ]
  },
  {
   "cell_type": "code",
   "execution_count": null,
   "id": "f47edb36",
   "metadata": {},
   "outputs": [],
   "source": [
    "board=np.tile(np.array([0,1]*4),(8,1))\n",
    "board[1::2]=board[0][::-1]\n",
    "board"
   ]
  },
  {
   "cell_type": "markdown",
   "id": "4ff477e6",
   "metadata": {},
   "source": [
    "Вправа 14. Шахівниця 8×8 через tile"
   ]
  },
  {
   "cell_type": "code",
   "execution_count": null,
   "id": "54d008d2",
   "metadata": {},
   "outputs": [],
   "source": [
    "np.tile([[0,1],[1,0]],(4,4))"
   ]
  },
  {
   "cell_type": "markdown",
   "id": "b2d3f8d4",
   "metadata": {},
   "source": [
    "Вправа 16. Нулі в інтервалі (n/4,3n/4)"
   ]
  },
  {
   "cell_type": "code",
   "execution_count": null,
   "id": "b5597185",
   "metadata": {},
   "outputs": [],
   "source": [
    "n=20\n",
    "v=np.arange(n+1)\n",
    "v[(v>n/4)&(v<3*n/4)]=0\n",
    "v\n",
    "def loop(n):\n",
    "    v=[]\n",
    "    for i in range(n+1):\n",
    "        v.append(0 if n/4<i<3*n/4 else i)\n",
    "    return np.array(v)\n",
    "loop(n)"
   ]
  },
  {
   "cell_type": "markdown",
   "id": "57c81dc9",
   "metadata": {},
   "source": [
    "Вправа 17. Зміна знаку x<n/2 або x>3n/4"
   ]
  },
  {
   "cell_type": "code",
   "execution_count": null,
   "id": "fd5e36bf",
   "metadata": {},
   "outputs": [],
   "source": [
    "n=10\n",
    "v=np.arange(n+1)\n",
    "mask=(v<n/2)|(v>3*n/4)\n",
    "v[mask]*=-1\n",
    "v\n",
    "def loop(n):\n",
    "    v=[]\n",
    "    for i in range(n+1):\n",
    "        v.append(-i if i<n/2 or i>3*n/4 else i)\n",
    "    return np.array(v)\n",
    "loop(n)"
   ]
  },
  {
   "cell_type": "markdown",
   "id": "01fc3c96",
   "metadata": {},
   "source": [
    "Вправа 20. Випадковий вектор; замінити max на 0"
   ]
  },
  {
   "cell_type": "code",
   "execution_count": null,
   "id": "98abbc22",
   "metadata": {},
   "outputs": [],
   "source": [
    "n=10\n",
    "v=np.random.rand(n)\n",
    "v[v.argmax()]=0\n",
    "v\n",
    "def loop(n):\n",
    "    v=list(np.random.rand(n))\n",
    "    v[v.index(max(v))]=0\n",
    "    return np.array(v)\n",
    "loop(n)"
   ]
  },
  {
   "cell_type": "markdown",
   "id": "e8237b9c",
   "metadata": {},
   "source": [
    "## Система лінійних рівнянь (формули Крамера)"
   ]
  },
  {
   "cell_type": "code",
   "execution_count": null,
   "id": "414b3894",
   "metadata": {},
   "outputs": [],
   "source": [
    "import numpy as np, time\n",
    "A=np.array([[1,2,3,-2],\n",
    "            [1,-1,-2,-3],\n",
    "            [3,2,-1,2],\n",
    "            [2,-3,2,1]],float)\n",
    "b=np.array([6,8,4,-8],float)\n",
    "\n",
    "detA=np.linalg.det(A)\n",
    "x=[]\n",
    "for i in range(4):\n",
    "    Ai=A.copy();Ai[:,i]=b\n",
    "    x.append(np.linalg.det(Ai)/detA)\n",
    "x=np.array(x)\n",
    "\n",
    "x_dot=A.T @ (np.linalg.inv(A.T)@b) \n",
    "x_inv=np.linalg.inv(A)@b\n",
    "x_solve=np.linalg.solve(A,b)\n",
    "\n",
    "print(x)\n",
    "print(np.allclose(x,x_inv,x_solve))"
   ]
  },
  {
   "cell_type": "markdown",
   "id": "6eff0d05",
   "metadata": {},
   "source": [
    "## 3) Матричний вираз $3A - (A - 2B)B$"
   ]
  },
  {
   "cell_type": "code",
   "execution_count": null,
   "id": "ff16cac9",
   "metadata": {},
   "outputs": [],
   "source": [
    "import numpy as np,time\n",
    "A=np.array([[4,5,-2],\n",
    "            [3,-1,0],\n",
    "            [4,2,7]],float)\n",
    "B=np.array([[2,1,-1],\n",
    "            [0,1,3],\n",
    "            [5,7,3]],float)\n",
    "\n",
    "%timeit 3*A - (A-2*B)@B\n",
    "\n",
    "def loop(A,B):\n",
    "    C=np.zeros_like(A,dtype=float)\n",
    "    for i in range(3):\n",
    "        for j in range(3):\n",
    "            s=0\n",
    "            for k in range(3):\n",
    "                s+=(A[i][k]-2*B[i][k])*B[k][j]\n",
    "            C[i][j]=3*A[i][j]-s\n",
    "    return C\n",
    "\n",
    "%timeit loop(A,B)\n",
    "print(np.allclose(3*A-(A-2*B)@B, loop(A,B)))"
   ]
  }
 ],
 "metadata": {},
 "nbformat": 4,
 "nbformat_minor": 5
}
