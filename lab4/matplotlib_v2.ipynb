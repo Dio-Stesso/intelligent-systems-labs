{
 "cells": [
  {
   "cell_type": "markdown",
   "id": "5dcba131",
   "metadata": {},
   "source": [
    "# Matplotlib Lab – Variant 2\n",
    "Система:\n",
    "$$\\begin{cases}6.2x_1+6.6x_2=83\\\\-9.6x_1+13.8x_2=72\\\\-13.2x_1+5.7x_2=305\\end{cases}$$"
   ]
  },
  {
   "cell_type": "code",
   "execution_count": null,
   "id": "f8d10887",
   "metadata": {},
   "outputs": [],
   "source": [
    "import numpy as np\n",
    "import matplotlib.pyplot as plt\n",
    "plt.style.use('seaborn-v0_8-whitegrid')\n",
    "%matplotlib inline\n",
    "\n",
    "# coeffs a*x + b*y = c\n",
    "eqs = [(6.2,  6.6,  83),\n",
    "       (-9.6, 13.8, 72),\n",
    "       (-13.2, 5.7, 305)]\n",
    "\n",
    "def line_xy(a,b,c,x):\n",
    "    return (c - a*x)/b"
   ]
  },
  {
   "cell_type": "code",
   "execution_count": null,
   "id": "06ba19b7",
   "metadata": {},
   "outputs": [],
   "source": [
    "fig, axes = plt.subplots(1,3, figsize=(12,4), sharey=True, dpi=100)\n",
    "colors = ['crimson','darkgreen','navy']\n",
    "styles = ['--','-.',':']\n",
    "x = np.linspace(-20,30,400)\n",
    "\n",
    "for idx,(ax,(a,b,c)) in enumerate(zip(axes,eqs)):\n",
    "    y=line_xy(a,b,c,x)\n",
    "    ax.plot(x,y, color=colors[idx], linestyle=styles[idx], linewidth=2)\n",
    "    ax.set_title(f'$%.1f x_1 %+ .1f x_2 = %.0f$'%(a,b,c))\n",
    "    ax.set_xlabel('$x_1$')\n",
    "    if idx==0: ax.set_ylabel('$x_2$')\n",
    "fig.suptitle('Окремі прямі')\n",
    "plt.tight_layout()"
   ]
  },
  {
   "cell_type": "code",
   "execution_count": null,
   "id": "5dc3b571",
   "metadata": {},
   "outputs": [],
   "source": [
    "pts=[]\n",
    "from itertools import combinations\n",
    "for (i,(a1,b1,c1)), (j,(a2,b2,c2)) in combinations(enumerate(eqs),2):\n",
    "    A=np.array([[a1,b1],[a2,b2]])\n",
    "    B=np.array([c1,c2])\n",
    "    x1,x2=np.linalg.solve(A,B)\n",
    "    pts.append((x1,x2))\n",
    "pts=np.array(pts)\n",
    "xmin,xmax=pts[:,0].min()-5, pts[:,0].max()+5\n",
    "ymin,ymax=pts[:,1].min()-5, pts[:,1].max()+5\n",
    "\n",
    "fig,ax=plt.subplots(figsize=(8,16/2), dpi=100)\n",
    "x=np.linspace(xmin,xmax,400)\n",
    "for (a,b,c),col,st in zip(eqs,['crimson','darkgreen','navy'],['--','-.',':']):\n",
    "    y=line_xy(a,b,c,x)\n",
    "    ax.plot(x,y, color=col, linestyle=st, linewidth=2,\n",
    "            label=r'$%.1f x_1 %+ .1f x_2 = %.0f$'%(a,b,c))\n",
    "    xm=(xmin+xmax)/2\n",
    "    ym=line_xy(a,b,c,xm)\n",
    "    ax.text(xm, ym, r'$%.1f x_1 %+ .1f x_2 = %.0f$'%(a,b,c),\n",
    "            rotation=np.degrees(np.arctan2(-a,b)), color=col,\n",
    "            fontsize=9)\n",
    "\n",
    "ax.fill(pts[:,0], pts[:,1], color='gold', alpha=0.3, label='Область перетину')\n",
    "\n",
    "ax.scatter(pts[:,0], pts[:,1], s=60, color='black')\n",
    "for k,(xp,yp) in enumerate(pts):\n",
    "    ax.annotate(f'$P_{k+1}$',(xp,yp), textcoords='offset points', xytext=(5,5))\n",
    "\n",
    "ax.set_xlim(xmin,xmax)\n",
    "ax.set_ylim(ymin,ymax)\n",
    "ax.set_xlabel('$x_1$')\n",
    "ax.set_ylabel('$x_2$')\n",
    "ax.set_title('Три прямі та їх область перетину')\n",
    "ax.grid(color='gray', linestyle=':', linewidth=0.7)\n",
    "ax.legend()\n",
    "plt.tight_layout()\n",
    "\n",
    "fig.savefig('combined_plot.jpg')\n",
    "fig.savefig('combined_plot.png')\n",
    "fig.savefig('combined_plot.svg')"
   ]
  },
  {
   "cell_type": "markdown",
   "id": "452ec53f",
   "metadata": {},
   "source": [
    "### Файли збережено\n",
    "- `combined_plot.jpg`\n",
    "- `combined_plot.png`\n",
    "- `combined_plot.svg`"
   ]
  }
 ],
 "metadata": {},
 "nbformat": 4,
 "nbformat_minor": 5
}
